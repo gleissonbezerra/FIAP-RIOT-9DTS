{
 "cells": [
  {
   "cell_type": "markdown",
   "metadata": {},
   "source": [
    "# 1. Introdução\n",
    " \n",
    "Nesse NOTEBOOK encontra-se o código utilizado para aplicar a técnica de *Transfer Learning* com objetivo de aproveitar a capacidade de extração de features de animais da rede MobileNet somada a uma nova camada *fully connected* para classificação de gatos específicos de uma casa."
   ]
  },
  {
   "cell_type": "markdown",
   "metadata": {},
   "source": [
    "# 2. Parâmetros e Caminho das Imagens\n"
   ]
  },
  {
   "cell_type": "code",
   "execution_count": 46,
   "metadata": {},
   "outputs": [],
   "source": [
    "classes = [\"NENHUM\", \"HELENO\", \"PITUTA\", \"REGINALDO\"]\n",
    "\n",
    "#base_path = r\"/Users/gsbezerra/source/junior/junior-homecat-training/results\"\n",
    "base_path = r\"D:\\source\\\\junior\\\\junior-homecat-training\\\\results\"\n",
    "\n",
    "EPOCHS = 40\n",
    "\n",
    "BATCH_SIZE = 100\n",
    "\n",
    "DIM = 96\n"
   ]
  },
  {
   "cell_type": "markdown",
   "metadata": {},
   "source": [
    "# 3. Preparação dos Dados"
   ]
  },
  {
   "cell_type": "markdown",
   "metadata": {},
   "source": [
    "# 3.1. Carga do Dataset\n"
   ]
  },
  {
   "cell_type": "code",
   "execution_count": 2,
   "metadata": {},
   "outputs": [],
   "source": [
    "import cv2\n",
    "\n",
    "def load_image(image_path):\n",
    "\n",
    "    image = cv2.imread(image_path)\n",
    "    image = cv2.resize(image, (DIM, DIM))\n",
    "    image = cv2.cvtColor(image, cv2.COLOR_BGR2RGB)\n",
    "\n",
    "    return image\n"
   ]
  },
  {
   "cell_type": "code",
   "execution_count": 3,
   "metadata": {},
   "outputs": [],
   "source": [
    "import os\n",
    "import numpy as np\n",
    "\n",
    "\n",
    "def load_dataset(base_path, classes):\n",
    "\n",
    "    data = []\n",
    "    labels = []\n",
    "\n",
    "    os.chdir(base_path)\n",
    "\n",
    "\n",
    "    for i in range(len(classes)):\n",
    "        path = base_path+\"/\"+classes[i]\n",
    "\n",
    "        j = 0\n",
    "        with os.scandir(path) as files:\n",
    "\n",
    "            for file in files:\n",
    "\n",
    "                try:\n",
    "\n",
    "                    image = load_image(file.path)\n",
    "\n",
    "                    if image.shape[0] >= DIM:\n",
    "                        data.append(image)\n",
    "                        labels.append(i)\n",
    "                        \n",
    "                except:\n",
    "                    pass\n",
    "\n",
    "    data = np.array(data, dtype=\"float32\") / 255.0\n",
    "    labels = np.array(labels)\n",
    "\n",
    "    return data, labels"
   ]
  },
  {
   "cell_type": "code",
   "execution_count": 5,
   "metadata": {},
   "outputs": [
    {
     "name": "stdout",
     "output_type": "stream",
     "text": [
      "(10453, 96, 96, 3)\n",
      "(10453,)\n"
     ]
    }
   ],
   "source": [
    "\n",
    "data, labels = load_dataset(base_path, classes)\n",
    "\n",
    "print(data.shape)\n",
    "print(labels.shape)"
   ]
  },
  {
   "cell_type": "markdown",
   "metadata": {},
   "source": [
    "# 3.2. Categorização"
   ]
  },
  {
   "cell_type": "code",
   "execution_count": 47,
   "metadata": {},
   "outputs": [
    {
     "name": "stdout",
     "output_type": "stream",
     "text": [
      "# of training images: 8362\n",
      "# of cross-validation images: 2091\n"
     ]
    }
   ],
   "source": [
    "from sklearn.model_selection import train_test_split\n",
    "from keras.preprocessing.image import ImageDataGenerator\n",
    "\n",
    "train_features, validation_features, train_labels, validation_labels = train_test_split(data, labels, test_size=0.2, random_state=0)\n",
    "\n",
    "print('# of training images:', train_features.shape[0])\n",
    "print('# of cross-validation images:', validation_features.shape[0])\n",
    "\n",
    "X_train, y_train = train_features, train_labels\n",
    "X_validation, y_validation = validation_features, validation_labels\n"
   ]
  },
  {
   "cell_type": "markdown",
   "metadata": {},
   "source": [
    "# 3.3. Data Augmentation"
   ]
  },
  {
   "cell_type": "code",
   "execution_count": null,
   "metadata": {},
   "outputs": [],
   "source": [
    "datagen = ImageDataGenerator(\n",
    "    rotation_range=10,  \n",
    "    zoom_range=0.1,  \n",
    "    width_shift_range=0.1,  \n",
    "    height_shift_range=0.1,  \n",
    "    horizontal_flip=True,  \n",
    "    vertical_flip=False, \n",
    ")  \n",
    "\n",
    "train_generator = datagen.flow(X_train, y_train, batch_size=BATCH_SIZE)\n",
    "validation_generator = ImageDataGenerator().flow(X_validation, y_validation, batch_size=BATCH_SIZE)\n"
   ]
  },
  {
   "cell_type": "markdown",
   "metadata": {},
   "source": [
    "# 4. Modelagem"
   ]
  },
  {
   "cell_type": "markdown",
   "metadata": {},
   "source": [
    "# 4.1. Modelo Base"
   ]
  },
  {
   "cell_type": "code",
   "execution_count": 48,
   "metadata": {},
   "outputs": [
    {
     "name": "stdout",
     "output_type": "stream",
     "text": [
      "WARNING:tensorflow:`input_shape` is undefined or non-square, or `rows` is not in [128, 160, 192, 224]. Weights for input shape (224, 224) will be loaded as the default.\n",
      "Model: \"mobilenet_0.25_224\"\n",
      "_________________________________________________________________\n",
      " Layer (type)                Output Shape              Param #   \n",
      "=================================================================\n",
      " input_8 (InputLayer)        [(None, 96, 96, 3)]       0         \n",
      "                                                                 \n",
      " conv1 (Conv2D)              (None, 48, 48, 8)         216       \n",
      "                                                                 \n",
      " conv1_bn (BatchNormalizatio  (None, 48, 48, 8)        32        \n",
      " n)                                                              \n",
      "                                                                 \n",
      " conv1_relu (ReLU)           (None, 48, 48, 8)         0         \n",
      "                                                                 \n",
      " conv_dw_1 (DepthwiseConv2D)  (None, 48, 48, 8)        72        \n",
      "                                                                 \n",
      " conv_dw_1_bn (BatchNormaliz  (None, 48, 48, 8)        32        \n",
      " ation)                                                          \n",
      "                                                                 \n",
      " conv_dw_1_relu (ReLU)       (None, 48, 48, 8)         0         \n",
      "                                                                 \n",
      " conv_pw_1 (Conv2D)          (None, 48, 48, 16)        128       \n",
      "                                                                 \n",
      " conv_pw_1_bn (BatchNormaliz  (None, 48, 48, 16)       64        \n",
      " ation)                                                          \n",
      "                                                                 \n",
      " conv_pw_1_relu (ReLU)       (None, 48, 48, 16)        0         \n",
      "                                                                 \n",
      " conv_pad_2 (ZeroPadding2D)  (None, 49, 49, 16)        0         \n",
      "                                                                 \n",
      " conv_dw_2 (DepthwiseConv2D)  (None, 24, 24, 16)       144       \n",
      "                                                                 \n",
      " conv_dw_2_bn (BatchNormaliz  (None, 24, 24, 16)       64        \n",
      " ation)                                                          \n",
      "                                                                 \n",
      " conv_dw_2_relu (ReLU)       (None, 24, 24, 16)        0         \n",
      "                                                                 \n",
      " conv_pw_2 (Conv2D)          (None, 24, 24, 32)        512       \n",
      "                                                                 \n",
      " conv_pw_2_bn (BatchNormaliz  (None, 24, 24, 32)       128       \n",
      " ation)                                                          \n",
      "                                                                 \n",
      " conv_pw_2_relu (ReLU)       (None, 24, 24, 32)        0         \n",
      "                                                                 \n",
      " conv_dw_3 (DepthwiseConv2D)  (None, 24, 24, 32)       288       \n",
      "                                                                 \n",
      " conv_dw_3_bn (BatchNormaliz  (None, 24, 24, 32)       128       \n",
      " ation)                                                          \n",
      "                                                                 \n",
      " conv_dw_3_relu (ReLU)       (None, 24, 24, 32)        0         \n",
      "                                                                 \n",
      " conv_pw_3 (Conv2D)          (None, 24, 24, 32)        1024      \n",
      "                                                                 \n",
      " conv_pw_3_bn (BatchNormaliz  (None, 24, 24, 32)       128       \n",
      " ation)                                                          \n",
      "                                                                 \n",
      " conv_pw_3_relu (ReLU)       (None, 24, 24, 32)        0         \n",
      "                                                                 \n",
      " conv_pad_4 (ZeroPadding2D)  (None, 25, 25, 32)        0         \n",
      "                                                                 \n",
      " conv_dw_4 (DepthwiseConv2D)  (None, 12, 12, 32)       288       \n",
      "                                                                 \n",
      " conv_dw_4_bn (BatchNormaliz  (None, 12, 12, 32)       128       \n",
      " ation)                                                          \n",
      "                                                                 \n",
      " conv_dw_4_relu (ReLU)       (None, 12, 12, 32)        0         \n",
      "                                                                 \n",
      " conv_pw_4 (Conv2D)          (None, 12, 12, 64)        2048      \n",
      "                                                                 \n",
      " conv_pw_4_bn (BatchNormaliz  (None, 12, 12, 64)       256       \n",
      " ation)                                                          \n",
      "                                                                 \n",
      " conv_pw_4_relu (ReLU)       (None, 12, 12, 64)        0         \n",
      "                                                                 \n",
      " conv_dw_5 (DepthwiseConv2D)  (None, 12, 12, 64)       576       \n",
      "                                                                 \n",
      " conv_dw_5_bn (BatchNormaliz  (None, 12, 12, 64)       256       \n",
      " ation)                                                          \n",
      "                                                                 \n",
      " conv_dw_5_relu (ReLU)       (None, 12, 12, 64)        0         \n",
      "                                                                 \n",
      " conv_pw_5 (Conv2D)          (None, 12, 12, 64)        4096      \n",
      "                                                                 \n",
      " conv_pw_5_bn (BatchNormaliz  (None, 12, 12, 64)       256       \n",
      " ation)                                                          \n",
      "                                                                 \n",
      " conv_pw_5_relu (ReLU)       (None, 12, 12, 64)        0         \n",
      "                                                                 \n",
      " conv_pad_6 (ZeroPadding2D)  (None, 13, 13, 64)        0         \n",
      "                                                                 \n",
      " conv_dw_6 (DepthwiseConv2D)  (None, 6, 6, 64)         576       \n",
      "                                                                 \n",
      " conv_dw_6_bn (BatchNormaliz  (None, 6, 6, 64)         256       \n",
      " ation)                                                          \n",
      "                                                                 \n",
      " conv_dw_6_relu (ReLU)       (None, 6, 6, 64)          0         \n",
      "                                                                 \n",
      " conv_pw_6 (Conv2D)          (None, 6, 6, 128)         8192      \n",
      "                                                                 \n",
      " conv_pw_6_bn (BatchNormaliz  (None, 6, 6, 128)        512       \n",
      " ation)                                                          \n",
      "                                                                 \n",
      " conv_pw_6_relu (ReLU)       (None, 6, 6, 128)         0         \n",
      "                                                                 \n",
      " conv_dw_7 (DepthwiseConv2D)  (None, 6, 6, 128)        1152      \n",
      "                                                                 \n",
      " conv_dw_7_bn (BatchNormaliz  (None, 6, 6, 128)        512       \n",
      " ation)                                                          \n",
      "                                                                 \n",
      " conv_dw_7_relu (ReLU)       (None, 6, 6, 128)         0         \n",
      "                                                                 \n",
      " conv_pw_7 (Conv2D)          (None, 6, 6, 128)         16384     \n",
      "                                                                 \n",
      " conv_pw_7_bn (BatchNormaliz  (None, 6, 6, 128)        512       \n",
      " ation)                                                          \n",
      "                                                                 \n",
      " conv_pw_7_relu (ReLU)       (None, 6, 6, 128)         0         \n",
      "                                                                 \n",
      " conv_dw_8 (DepthwiseConv2D)  (None, 6, 6, 128)        1152      \n",
      "                                                                 \n",
      " conv_dw_8_bn (BatchNormaliz  (None, 6, 6, 128)        512       \n",
      " ation)                                                          \n",
      "                                                                 \n",
      " conv_dw_8_relu (ReLU)       (None, 6, 6, 128)         0         \n",
      "                                                                 \n",
      " conv_pw_8 (Conv2D)          (None, 6, 6, 128)         16384     \n",
      "                                                                 \n",
      " conv_pw_8_bn (BatchNormaliz  (None, 6, 6, 128)        512       \n",
      " ation)                                                          \n",
      "                                                                 \n",
      " conv_pw_8_relu (ReLU)       (None, 6, 6, 128)         0         \n",
      "                                                                 \n",
      " conv_dw_9 (DepthwiseConv2D)  (None, 6, 6, 128)        1152      \n",
      "                                                                 \n",
      " conv_dw_9_bn (BatchNormaliz  (None, 6, 6, 128)        512       \n",
      " ation)                                                          \n",
      "                                                                 \n",
      " conv_dw_9_relu (ReLU)       (None, 6, 6, 128)         0         \n",
      "                                                                 \n",
      " conv_pw_9 (Conv2D)          (None, 6, 6, 128)         16384     \n",
      "                                                                 \n",
      " conv_pw_9_bn (BatchNormaliz  (None, 6, 6, 128)        512       \n",
      " ation)                                                          \n",
      "                                                                 \n",
      " conv_pw_9_relu (ReLU)       (None, 6, 6, 128)         0         \n",
      "                                                                 \n",
      " conv_dw_10 (DepthwiseConv2D  (None, 6, 6, 128)        1152      \n",
      " )                                                               \n",
      "                                                                 \n",
      " conv_dw_10_bn (BatchNormali  (None, 6, 6, 128)        512       \n",
      " zation)                                                         \n",
      "                                                                 \n",
      " conv_dw_10_relu (ReLU)      (None, 6, 6, 128)         0         \n",
      "                                                                 \n",
      " conv_pw_10 (Conv2D)         (None, 6, 6, 128)         16384     \n",
      "                                                                 \n",
      " conv_pw_10_bn (BatchNormali  (None, 6, 6, 128)        512       \n",
      " zation)                                                         \n",
      "                                                                 \n",
      " conv_pw_10_relu (ReLU)      (None, 6, 6, 128)         0         \n",
      "                                                                 \n",
      " conv_dw_11 (DepthwiseConv2D  (None, 6, 6, 128)        1152      \n",
      " )                                                               \n",
      "                                                                 \n",
      " conv_dw_11_bn (BatchNormali  (None, 6, 6, 128)        512       \n",
      " zation)                                                         \n",
      "                                                                 \n",
      " conv_dw_11_relu (ReLU)      (None, 6, 6, 128)         0         \n",
      "                                                                 \n",
      " conv_pw_11 (Conv2D)         (None, 6, 6, 128)         16384     \n",
      "                                                                 \n",
      " conv_pw_11_bn (BatchNormali  (None, 6, 6, 128)        512       \n",
      " zation)                                                         \n",
      "                                                                 \n",
      " conv_pw_11_relu (ReLU)      (None, 6, 6, 128)         0         \n",
      "                                                                 \n",
      " conv_pad_12 (ZeroPadding2D)  (None, 7, 7, 128)        0         \n",
      "                                                                 \n",
      " conv_dw_12 (DepthwiseConv2D  (None, 3, 3, 128)        1152      \n",
      " )                                                               \n",
      "                                                                 \n",
      " conv_dw_12_bn (BatchNormali  (None, 3, 3, 128)        512       \n",
      " zation)                                                         \n",
      "                                                                 \n",
      " conv_dw_12_relu (ReLU)      (None, 3, 3, 128)         0         \n",
      "                                                                 \n",
      " conv_pw_12 (Conv2D)         (None, 3, 3, 256)         32768     \n",
      "                                                                 \n",
      " conv_pw_12_bn (BatchNormali  (None, 3, 3, 256)        1024      \n",
      " zation)                                                         \n",
      "                                                                 \n",
      " conv_pw_12_relu (ReLU)      (None, 3, 3, 256)         0         \n",
      "                                                                 \n",
      " conv_dw_13 (DepthwiseConv2D  (None, 3, 3, 256)        2304      \n",
      " )                                                               \n",
      "                                                                 \n",
      " conv_dw_13_bn (BatchNormali  (None, 3, 3, 256)        1024      \n",
      " zation)                                                         \n",
      "                                                                 \n",
      " conv_dw_13_relu (ReLU)      (None, 3, 3, 256)         0         \n",
      "                                                                 \n",
      " conv_pw_13 (Conv2D)         (None, 3, 3, 256)         65536     \n",
      "                                                                 \n",
      " conv_pw_13_bn (BatchNormali  (None, 3, 3, 256)        1024      \n",
      " zation)                                                         \n",
      "                                                                 \n",
      " conv_pw_13_relu (ReLU)      (None, 3, 3, 256)         0         \n",
      "                                                                 \n",
      "=================================================================\n",
      "Total params: 218,544\n",
      "Trainable params: 0\n",
      "Non-trainable params: 218,544\n",
      "_________________________________________________________________\n"
     ]
    }
   ],
   "source": [
    "from tensorflow import keras\n",
    "\n",
    "base_model = keras.applications.MobileNet(\n",
    "    weights='imagenet',\n",
    "    input_shape=(DIM, DIM, 3),\n",
    "    alpha=0.25,\n",
    "    include_top=False\n",
    "    )\n",
    "\n",
    "base_model.trainable = False\n",
    "\n",
    "base_model.summary()\n",
    "    "
   ]
  },
  {
   "cell_type": "markdown",
   "metadata": {},
   "source": [
    "# 4.2. Classificacor Específico"
   ]
  },
  {
   "cell_type": "code",
   "execution_count": 49,
   "metadata": {},
   "outputs": [
    {
     "name": "stdout",
     "output_type": "stream",
     "text": [
      "Model: \"model_8\"\n",
      "_________________________________________________________________\n",
      " Layer (type)                Output Shape              Param #   \n",
      "=================================================================\n",
      " input_8 (InputLayer)        [(None, 96, 96, 3)]       0         \n",
      "                                                                 \n",
      " conv1 (Conv2D)              (None, 48, 48, 8)         216       \n",
      "                                                                 \n",
      " conv1_bn (BatchNormalizatio  (None, 48, 48, 8)        32        \n",
      " n)                                                              \n",
      "                                                                 \n",
      " conv1_relu (ReLU)           (None, 48, 48, 8)         0         \n",
      "                                                                 \n",
      " conv_dw_1 (DepthwiseConv2D)  (None, 48, 48, 8)        72        \n",
      "                                                                 \n",
      " conv_dw_1_bn (BatchNormaliz  (None, 48, 48, 8)        32        \n",
      " ation)                                                          \n",
      "                                                                 \n",
      " conv_dw_1_relu (ReLU)       (None, 48, 48, 8)         0         \n",
      "                                                                 \n",
      " conv_pw_1 (Conv2D)          (None, 48, 48, 16)        128       \n",
      "                                                                 \n",
      " conv_pw_1_bn (BatchNormaliz  (None, 48, 48, 16)       64        \n",
      " ation)                                                          \n",
      "                                                                 \n",
      " conv_pw_1_relu (ReLU)       (None, 48, 48, 16)        0         \n",
      "                                                                 \n",
      " conv_pad_2 (ZeroPadding2D)  (None, 49, 49, 16)        0         \n",
      "                                                                 \n",
      " conv_dw_2 (DepthwiseConv2D)  (None, 24, 24, 16)       144       \n",
      "                                                                 \n",
      " conv_dw_2_bn (BatchNormaliz  (None, 24, 24, 16)       64        \n",
      " ation)                                                          \n",
      "                                                                 \n",
      " conv_dw_2_relu (ReLU)       (None, 24, 24, 16)        0         \n",
      "                                                                 \n",
      " conv_pw_2 (Conv2D)          (None, 24, 24, 32)        512       \n",
      "                                                                 \n",
      " conv_pw_2_bn (BatchNormaliz  (None, 24, 24, 32)       128       \n",
      " ation)                                                          \n",
      "                                                                 \n",
      " conv_pw_2_relu (ReLU)       (None, 24, 24, 32)        0         \n",
      "                                                                 \n",
      " conv_dw_3 (DepthwiseConv2D)  (None, 24, 24, 32)       288       \n",
      "                                                                 \n",
      " conv_dw_3_bn (BatchNormaliz  (None, 24, 24, 32)       128       \n",
      " ation)                                                          \n",
      "                                                                 \n",
      " conv_dw_3_relu (ReLU)       (None, 24, 24, 32)        0         \n",
      "                                                                 \n",
      " conv_pw_3 (Conv2D)          (None, 24, 24, 32)        1024      \n",
      "                                                                 \n",
      " conv_pw_3_bn (BatchNormaliz  (None, 24, 24, 32)       128       \n",
      " ation)                                                          \n",
      "                                                                 \n",
      " conv_pw_3_relu (ReLU)       (None, 24, 24, 32)        0         \n",
      "                                                                 \n",
      " conv_pad_4 (ZeroPadding2D)  (None, 25, 25, 32)        0         \n",
      "                                                                 \n",
      " conv_dw_4 (DepthwiseConv2D)  (None, 12, 12, 32)       288       \n",
      "                                                                 \n",
      " conv_dw_4_bn (BatchNormaliz  (None, 12, 12, 32)       128       \n",
      " ation)                                                          \n",
      "                                                                 \n",
      " conv_dw_4_relu (ReLU)       (None, 12, 12, 32)        0         \n",
      "                                                                 \n",
      " conv_pw_4 (Conv2D)          (None, 12, 12, 64)        2048      \n",
      "                                                                 \n",
      " conv_pw_4_bn (BatchNormaliz  (None, 12, 12, 64)       256       \n",
      " ation)                                                          \n",
      "                                                                 \n",
      " conv_pw_4_relu (ReLU)       (None, 12, 12, 64)        0         \n",
      "                                                                 \n",
      " conv_dw_5 (DepthwiseConv2D)  (None, 12, 12, 64)       576       \n",
      "                                                                 \n",
      " conv_dw_5_bn (BatchNormaliz  (None, 12, 12, 64)       256       \n",
      " ation)                                                          \n",
      "                                                                 \n",
      " conv_dw_5_relu (ReLU)       (None, 12, 12, 64)        0         \n",
      "                                                                 \n",
      " conv_pw_5 (Conv2D)          (None, 12, 12, 64)        4096      \n",
      "                                                                 \n",
      " conv_pw_5_bn (BatchNormaliz  (None, 12, 12, 64)       256       \n",
      " ation)                                                          \n",
      "                                                                 \n",
      " conv_pw_5_relu (ReLU)       (None, 12, 12, 64)        0         \n",
      "                                                                 \n",
      " conv_pad_6 (ZeroPadding2D)  (None, 13, 13, 64)        0         \n",
      "                                                                 \n",
      " conv_dw_6 (DepthwiseConv2D)  (None, 6, 6, 64)         576       \n",
      "                                                                 \n",
      " conv_dw_6_bn (BatchNormaliz  (None, 6, 6, 64)         256       \n",
      " ation)                                                          \n",
      "                                                                 \n",
      " conv_dw_6_relu (ReLU)       (None, 6, 6, 64)          0         \n",
      "                                                                 \n",
      " conv_pw_6 (Conv2D)          (None, 6, 6, 128)         8192      \n",
      "                                                                 \n",
      " conv_pw_6_bn (BatchNormaliz  (None, 6, 6, 128)        512       \n",
      " ation)                                                          \n",
      "                                                                 \n",
      " conv_pw_6_relu (ReLU)       (None, 6, 6, 128)         0         \n",
      "                                                                 \n",
      " conv_dw_7 (DepthwiseConv2D)  (None, 6, 6, 128)        1152      \n",
      "                                                                 \n",
      " conv_dw_7_bn (BatchNormaliz  (None, 6, 6, 128)        512       \n",
      " ation)                                                          \n",
      "                                                                 \n",
      " conv_dw_7_relu (ReLU)       (None, 6, 6, 128)         0         \n",
      "                                                                 \n",
      " conv_pw_7 (Conv2D)          (None, 6, 6, 128)         16384     \n",
      "                                                                 \n",
      " conv_pw_7_bn (BatchNormaliz  (None, 6, 6, 128)        512       \n",
      " ation)                                                          \n",
      "                                                                 \n",
      " conv_pw_7_relu (ReLU)       (None, 6, 6, 128)         0         \n",
      "                                                                 \n",
      " conv_dw_8 (DepthwiseConv2D)  (None, 6, 6, 128)        1152      \n",
      "                                                                 \n",
      " conv_dw_8_bn (BatchNormaliz  (None, 6, 6, 128)        512       \n",
      " ation)                                                          \n",
      "                                                                 \n",
      " conv_dw_8_relu (ReLU)       (None, 6, 6, 128)         0         \n",
      "                                                                 \n",
      " conv_pw_8 (Conv2D)          (None, 6, 6, 128)         16384     \n",
      "                                                                 \n",
      " conv_pw_8_bn (BatchNormaliz  (None, 6, 6, 128)        512       \n",
      " ation)                                                          \n",
      "                                                                 \n",
      " conv_pw_8_relu (ReLU)       (None, 6, 6, 128)         0         \n",
      "                                                                 \n",
      " conv_dw_9 (DepthwiseConv2D)  (None, 6, 6, 128)        1152      \n",
      "                                                                 \n",
      " conv_dw_9_bn (BatchNormaliz  (None, 6, 6, 128)        512       \n",
      " ation)                                                          \n",
      "                                                                 \n",
      " conv_dw_9_relu (ReLU)       (None, 6, 6, 128)         0         \n",
      "                                                                 \n",
      " conv_pw_9 (Conv2D)          (None, 6, 6, 128)         16384     \n",
      "                                                                 \n",
      " conv_pw_9_bn (BatchNormaliz  (None, 6, 6, 128)        512       \n",
      " ation)                                                          \n",
      "                                                                 \n",
      " conv_pw_9_relu (ReLU)       (None, 6, 6, 128)         0         \n",
      "                                                                 \n",
      " conv_dw_10 (DepthwiseConv2D  (None, 6, 6, 128)        1152      \n",
      " )                                                               \n",
      "                                                                 \n",
      " conv_dw_10_bn (BatchNormali  (None, 6, 6, 128)        512       \n",
      " zation)                                                         \n",
      "                                                                 \n",
      " conv_dw_10_relu (ReLU)      (None, 6, 6, 128)         0         \n",
      "                                                                 \n",
      " conv_pw_10 (Conv2D)         (None, 6, 6, 128)         16384     \n",
      "                                                                 \n",
      " conv_pw_10_bn (BatchNormali  (None, 6, 6, 128)        512       \n",
      " zation)                                                         \n",
      "                                                                 \n",
      " conv_pw_10_relu (ReLU)      (None, 6, 6, 128)         0         \n",
      "                                                                 \n",
      " reshape_8 (Reshape)         (None, 36, 128)           0         \n",
      "                                                                 \n",
      " dropout_8 (Dropout)         (None, 36, 128)           0         \n",
      "                                                                 \n",
      " flatten_8 (Flatten)         (None, 4608)              0         \n",
      "                                                                 \n",
      " dense_8 (Dense)             (None, 4)                 18436     \n",
      "                                                                 \n",
      "=================================================================\n",
      "Total params: 113,076\n",
      "Trainable params: 18,436\n",
      "Non-trainable params: 94,640\n",
      "_________________________________________________________________\n"
     ]
    }
   ],
   "source": [
    "import tensorflow as tf\n",
    "\n",
    "base_model.trainable = False\n",
    "\n",
    "last_layer = base_model.get_layer('conv_pw_10_relu')\n",
    "\n",
    "#x = tf.keras.layers.Conv2D(filters=32, kernel_size=3, activation='relu')(last_layer.output)\n",
    "x = tf.keras.layers.Reshape((-1, last_layer.output.shape[3]))(last_layer.output)\n",
    "x = tf.keras.layers.Dropout(0.1)(x)\n",
    "x = tf.keras.layers.Flatten()(x)\n",
    "x = tf.keras.layers.Dense(units=len(classes), activation='softmax')(x)\n",
    "\n",
    "model = tf.keras.Model(base_model.input, x)\n",
    "\n",
    "model.compile(optimizer=tf.keras.optimizers.Adam(learning_rate=0.0005),\n",
    "                loss='sparse_categorical_crossentropy',\n",
    "                metrics=['accuracy'])\n",
    "\n",
    "model.summary()\n"
   ]
  },
  {
   "cell_type": "markdown",
   "metadata": {},
   "source": [
    "# 5. Treinamento"
   ]
  },
  {
   "cell_type": "code",
   "execution_count": 50,
   "metadata": {},
   "outputs": [
    {
     "name": "stdout",
     "output_type": "stream",
     "text": [
      "Epoch 1/40\n",
      "83/83 [==============================] - 19s 220ms/step - loss: 0.8056 - accuracy: 0.6876 - val_loss: 0.2058 - val_accuracy: 0.9425\n",
      "Epoch 2/40\n",
      "83/83 [==============================] - 17s 207ms/step - loss: 0.2478 - accuracy: 0.9166 - val_loss: 0.1361 - val_accuracy: 0.9590\n",
      "Epoch 3/40\n",
      "83/83 [==============================] - 17s 205ms/step - loss: 0.1675 - accuracy: 0.9466 - val_loss: 0.0822 - val_accuracy: 0.9765\n",
      "Epoch 4/40\n",
      "83/83 [==============================] - 17s 204ms/step - loss: 0.1266 - accuracy: 0.9620 - val_loss: 0.0719 - val_accuracy: 0.9805\n",
      "Epoch 5/40\n",
      "83/83 [==============================] - 17s 204ms/step - loss: 0.1076 - accuracy: 0.9653 - val_loss: 0.0612 - val_accuracy: 0.9835\n",
      "Epoch 6/40\n",
      "83/83 [==============================] - 17s 204ms/step - loss: 0.0942 - accuracy: 0.9706 - val_loss: 0.0534 - val_accuracy: 0.9855\n",
      "Epoch 7/40\n",
      "83/83 [==============================] - 17s 203ms/step - loss: 0.0858 - accuracy: 0.9736 - val_loss: 0.0526 - val_accuracy: 0.9835\n",
      "Epoch 8/40\n",
      "83/83 [==============================] - 17s 206ms/step - loss: 0.0734 - accuracy: 0.9780 - val_loss: 0.0521 - val_accuracy: 0.9840\n",
      "Epoch 9/40\n",
      "83/83 [==============================] - 17s 209ms/step - loss: 0.0652 - accuracy: 0.9802 - val_loss: 0.0415 - val_accuracy: 0.9890\n",
      "Epoch 10/40\n",
      "83/83 [==============================] - 18s 211ms/step - loss: 0.0636 - accuracy: 0.9800 - val_loss: 0.0404 - val_accuracy: 0.9900\n",
      "Epoch 11/40\n",
      "83/83 [==============================] - 18s 212ms/step - loss: 0.0527 - accuracy: 0.9839 - val_loss: 0.0425 - val_accuracy: 0.9875\n",
      "Epoch 12/40\n",
      "83/83 [==============================] - 17s 201ms/step - loss: 0.0489 - accuracy: 0.9851 - val_loss: 0.0342 - val_accuracy: 0.9910\n",
      "Epoch 13/40\n",
      "83/83 [==============================] - 17s 201ms/step - loss: 0.0519 - accuracy: 0.9846 - val_loss: 0.0356 - val_accuracy: 0.9905\n",
      "Epoch 14/40\n",
      "83/83 [==============================] - 17s 206ms/step - loss: 0.0482 - accuracy: 0.9860 - val_loss: 0.0416 - val_accuracy: 0.9895\n",
      "Epoch 15/40\n",
      "83/83 [==============================] - 17s 204ms/step - loss: 0.0447 - accuracy: 0.9843 - val_loss: 0.0354 - val_accuracy: 0.9910\n",
      "Epoch 16/40\n",
      "83/83 [==============================] - 17s 203ms/step - loss: 0.0541 - accuracy: 0.9816 - val_loss: 0.0342 - val_accuracy: 0.9925\n",
      "Epoch 17/40\n",
      "83/83 [==============================] - 17s 208ms/step - loss: 0.0458 - accuracy: 0.9848 - val_loss: 0.0302 - val_accuracy: 0.9905\n",
      "Epoch 18/40\n",
      "83/83 [==============================] - 17s 204ms/step - loss: 0.0398 - accuracy: 0.9880 - val_loss: 0.0304 - val_accuracy: 0.9905\n",
      "Epoch 19/40\n",
      "83/83 [==============================] - 18s 213ms/step - loss: 0.0391 - accuracy: 0.9890 - val_loss: 0.0287 - val_accuracy: 0.9925\n",
      "Epoch 20/40\n",
      "83/83 [==============================] - 18s 219ms/step - loss: 0.0403 - accuracy: 0.9884 - val_loss: 0.0288 - val_accuracy: 0.9925\n",
      "Epoch 21/40\n",
      "83/83 [==============================] - 18s 214ms/step - loss: 0.0363 - accuracy: 0.9886 - val_loss: 0.0299 - val_accuracy: 0.9915\n",
      "Epoch 22/40\n",
      "83/83 [==============================] - 17s 204ms/step - loss: 0.0344 - accuracy: 0.9898 - val_loss: 0.0259 - val_accuracy: 0.9920\n",
      "Epoch 23/40\n",
      "83/83 [==============================] - 17s 205ms/step - loss: 0.0374 - accuracy: 0.9878 - val_loss: 0.0275 - val_accuracy: 0.9935\n",
      "Epoch 24/40\n",
      "83/83 [==============================] - 17s 204ms/step - loss: 0.0375 - accuracy: 0.9885 - val_loss: 0.0336 - val_accuracy: 0.9915\n",
      "Epoch 25/40\n",
      "83/83 [==============================] - 17s 208ms/step - loss: 0.0387 - accuracy: 0.9879 - val_loss: 0.0362 - val_accuracy: 0.9930\n",
      "Epoch 26/40\n",
      "83/83 [==============================] - 18s 214ms/step - loss: 0.0329 - accuracy: 0.9890 - val_loss: 0.0244 - val_accuracy: 0.9935\n",
      "Epoch 27/40\n",
      "83/83 [==============================] - 17s 207ms/step - loss: 0.0328 - accuracy: 0.9912 - val_loss: 0.0309 - val_accuracy: 0.9925\n",
      "Epoch 28/40\n",
      "83/83 [==============================] - 17s 206ms/step - loss: 0.0318 - accuracy: 0.9902 - val_loss: 0.0320 - val_accuracy: 0.9925\n",
      "Epoch 29/40\n",
      "83/83 [==============================] - 17s 207ms/step - loss: 0.0299 - accuracy: 0.9912 - val_loss: 0.0371 - val_accuracy: 0.9920\n",
      "Epoch 30/40\n",
      "83/83 [==============================] - 17s 204ms/step - loss: 0.0336 - accuracy: 0.9890 - val_loss: 0.0417 - val_accuracy: 0.9905\n",
      "Epoch 31/40\n",
      "83/83 [==============================] - 17s 203ms/step - loss: 0.0322 - accuracy: 0.9904 - val_loss: 0.0488 - val_accuracy: 0.9880\n",
      "Epoch 32/40\n",
      "83/83 [==============================] - 17s 206ms/step - loss: 0.0346 - accuracy: 0.9880 - val_loss: 0.0288 - val_accuracy: 0.9925\n",
      "Epoch 33/40\n",
      "83/83 [==============================] - 17s 208ms/step - loss: 0.0297 - accuracy: 0.9901 - val_loss: 0.0226 - val_accuracy: 0.9940\n",
      "Epoch 34/40\n",
      "83/83 [==============================] - 17s 205ms/step - loss: 0.0292 - accuracy: 0.9901 - val_loss: 0.0268 - val_accuracy: 0.9900\n",
      "Epoch 35/40\n",
      "83/83 [==============================] - 17s 204ms/step - loss: 0.0356 - accuracy: 0.9883 - val_loss: 0.0395 - val_accuracy: 0.9905\n",
      "Epoch 36/40\n",
      "83/83 [==============================] - 17s 209ms/step - loss: 0.0316 - accuracy: 0.9902 - val_loss: 0.0207 - val_accuracy: 0.9930\n",
      "Epoch 37/40\n",
      "83/83 [==============================] - 17s 208ms/step - loss: 0.0265 - accuracy: 0.9902 - val_loss: 0.0175 - val_accuracy: 0.9945\n",
      "Epoch 38/40\n",
      "83/83 [==============================] - 17s 203ms/step - loss: 0.0238 - accuracy: 0.9936 - val_loss: 0.0222 - val_accuracy: 0.9935\n",
      "Epoch 39/40\n",
      "83/83 [==============================] - 17s 204ms/step - loss: 0.0261 - accuracy: 0.9921 - val_loss: 0.0187 - val_accuracy: 0.9945\n",
      "Epoch 40/40\n",
      "83/83 [==============================] - 17s 208ms/step - loss: 0.0263 - accuracy: 0.9910 - val_loss: 0.0228 - val_accuracy: 0.9935\n"
     ]
    }
   ],
   "source": [
    "import tensorflow\n",
    "\n",
    "steps_per_epoch = X_train.shape[0] // BATCH_SIZE\n",
    "validation_steps = X_validation.shape[0] // BATCH_SIZE\n",
    "\n",
    "history = model.fit(train_generator, steps_per_epoch=steps_per_epoch, epochs=EPOCHS,\n",
    "          validation_data=validation_generator, validation_steps=validation_steps,\n",
    "          shuffle=True)"
   ]
  },
  {
   "cell_type": "markdown",
   "metadata": {},
   "source": [
    "# 5.1. Desempenho"
   ]
  },
  {
   "cell_type": "code",
   "execution_count": 51,
   "metadata": {},
   "outputs": [
    {
     "data": {
      "text/plain": [
       "<matplotlib.legend.Legend at 0x282442c96d0>"
      ]
     },
     "execution_count": 51,
     "metadata": {},
     "output_type": "execute_result"
    },
    {
     "data": {
      "image/png": "[encoded data removed]",
      "text/plain": [
       "<Figure size 432x288 with 1 Axes>"
      ]
     },
     "metadata": {},
     "output_type": "display_data"
    }
   ],
   "source": [
    "import matplotlib.pyplot as plt\n",
    "\n",
    "plt.style.use(\"ggplot\")\n",
    "plt.figure()\n",
    "N = EPOCHS\n",
    "plt.plot(np.arange(0, N), history.history[\"loss\"], label=\"train_loss\")\n",
    "plt.plot(np.arange(0, N), history.history[\"val_loss\"], label=\"val_loss\")\n",
    "\n",
    "plt.title(\"Training Performance\")\n",
    "plt.xlabel(\"Epoch #\")\n",
    "plt.ylabel(\"Loss\")\n",
    "plt.legend(loc=\"upper left\")"
   ]
  },
  {
   "cell_type": "code",
   "execution_count": 53,
   "metadata": {},
   "outputs": [
    {
     "data": {
      "text/plain": [
       "<matplotlib.legend.Legend at 0x28240e88e80>"
      ]
     },
     "execution_count": 53,
     "metadata": {},
     "output_type": "execute_result"
    },
    {
     "data": {
      "image/png": "[encoded data removed]",
      "text/plain": [
       "<Figure size 432x288 with 1 Axes>"
      ]
     },
     "metadata": {},
     "output_type": "display_data"
    }
   ],
   "source": [
    "import matplotlib.pyplot as plt\n",
    "\n",
    "plt.style.use(\"ggplot\")\n",
    "plt.figure()\n",
    "N = EPOCHS\n",
    "plt.plot(np.arange(0, N), history.history[\"accuracy\"], label=\"accuracy\")\n",
    "plt.plot(np.arange(0, N), history.history[\"val_accuracy\"], label=\"val_accuracy\")\n",
    "\n",
    "plt.title(\"Training Performance\")\n",
    "plt.xlabel(\"Epoch #\")\n",
    "plt.ylabel(\"Accuracy\")\n",
    "plt.legend(loc=\"upper left\")"
   ]
  },
  {
   "cell_type": "markdown",
   "metadata": {},
   "source": [
    "# 5.2. Nota Final"
   ]
  },
  {
   "cell_type": "code",
   "execution_count": 54,
   "metadata": {},
   "outputs": [
    {
     "name": "stdout",
     "output_type": "stream",
     "text": [
      "Evaluate on test data\n",
      "21/21 [==============================] - 1s 61ms/step - loss: 0.0223 - accuracy: 0.9938\n"
     ]
    },
    {
     "data": {
      "text/plain": [
       "[0.022344494238495827, 0.9937828779220581]"
      ]
     },
     "execution_count": 54,
     "metadata": {},
     "output_type": "execute_result"
    }
   ],
   "source": [
    "print(\"Evaluate on test data\")\n",
    "model.evaluate(X_validation, y_validation, batch_size=BATCH_SIZE)"
   ]
  },
  {
   "cell_type": "markdown",
   "metadata": {},
   "source": [
    "# 6. Fine Tuning"
   ]
  },
  {
   "cell_type": "code",
   "execution_count": 55,
   "metadata": {},
   "outputs": [
    {
     "name": "stdout",
     "output_type": "stream",
     "text": [
      "Epoch 1/20\n",
      "83/83 [==============================] - 27s 306ms/step - loss: 0.0964 - accuracy: 0.9687 - val_loss: 0.0321 - val_accuracy: 0.9910\n",
      "Epoch 2/20\n",
      "83/83 [==============================] - 25s 295ms/step - loss: 0.0395 - accuracy: 0.9872 - val_loss: 0.0275 - val_accuracy: 0.9915\n",
      "Epoch 3/20\n",
      "83/83 [==============================] - 25s 298ms/step - loss: 0.0383 - accuracy: 0.9864 - val_loss: 0.0183 - val_accuracy: 0.9945\n",
      "Epoch 4/20\n",
      "83/83 [==============================] - 28s 339ms/step - loss: 0.0279 - accuracy: 0.9909 - val_loss: 0.0162 - val_accuracy: 0.9965\n",
      "Epoch 5/20\n",
      "83/83 [==============================] - 26s 310ms/step - loss: 0.0211 - accuracy: 0.9935 - val_loss: 0.0126 - val_accuracy: 0.9970\n",
      "Epoch 6/20\n",
      "83/83 [==============================] - 25s 300ms/step - loss: 0.0239 - accuracy: 0.9920 - val_loss: 0.0147 - val_accuracy: 0.9965\n",
      "Epoch 7/20\n",
      "83/83 [==============================] - 25s 297ms/step - loss: 0.0243 - accuracy: 0.9916 - val_loss: 0.0140 - val_accuracy: 0.9965\n",
      "Epoch 8/20\n",
      "83/83 [==============================] - 25s 302ms/step - loss: 0.0161 - accuracy: 0.9953 - val_loss: 0.0133 - val_accuracy: 0.9970\n",
      "Epoch 9/20\n",
      "83/83 [==============================] - 26s 312ms/step - loss: 0.0193 - accuracy: 0.9942 - val_loss: 0.0132 - val_accuracy: 0.9970\n",
      "Epoch 10/20\n",
      "83/83 [==============================] - 25s 301ms/step - loss: 0.0146 - accuracy: 0.9950 - val_loss: 0.0106 - val_accuracy: 0.9980\n",
      "Epoch 11/20\n",
      "83/83 [==============================] - 26s 308ms/step - loss: 0.0146 - accuracy: 0.9952 - val_loss: 0.0132 - val_accuracy: 0.9970\n",
      "Epoch 12/20\n",
      "83/83 [==============================] - 26s 312ms/step - loss: 0.0149 - accuracy: 0.9953 - val_loss: 0.0121 - val_accuracy: 0.9975\n",
      "Epoch 13/20\n",
      "83/83 [==============================] - 27s 321ms/step - loss: 0.0123 - accuracy: 0.9961 - val_loss: 0.0120 - val_accuracy: 0.9975\n",
      "Epoch 14/20\n",
      "83/83 [==============================] - 26s 315ms/step - loss: 0.0119 - accuracy: 0.9960 - val_loss: 0.0101 - val_accuracy: 0.9980\n",
      "Epoch 15/20\n",
      "83/83 [==============================] - 27s 325ms/step - loss: 0.0130 - accuracy: 0.9955 - val_loss: 0.0111 - val_accuracy: 0.9975\n",
      "Epoch 16/20\n",
      "83/83 [==============================] - 28s 330ms/step - loss: 0.0098 - accuracy: 0.9964 - val_loss: 0.0106 - val_accuracy: 0.9970\n",
      "Epoch 17/20\n",
      "83/83 [==============================] - 28s 335ms/step - loss: 0.0095 - accuracy: 0.9972 - val_loss: 0.0096 - val_accuracy: 0.9980\n",
      "Epoch 18/20\n",
      "83/83 [==============================] - 26s 306ms/step - loss: 0.0101 - accuracy: 0.9971 - val_loss: 0.0101 - val_accuracy: 0.9975\n",
      "Epoch 19/20\n",
      "83/83 [==============================] - 25s 303ms/step - loss: 0.0104 - accuracy: 0.9971 - val_loss: 0.0097 - val_accuracy: 0.9975\n",
      "Epoch 20/20\n",
      "83/83 [==============================] - 27s 324ms/step - loss: 0.0123 - accuracy: 0.9964 - val_loss: 0.0099 - val_accuracy: 0.9975\n"
     ]
    }
   ],
   "source": [
    "\n",
    "base_model.trainable = True\n",
    "\n",
    "model.compile(optimizer=tensorflow.keras.optimizers.Adam(learning_rate=0.000045),\n",
    "                loss='sparse_categorical_crossentropy',\n",
    "                metrics=['accuracy'])\n",
    "\n",
    "history = model.fit(train_generator, steps_per_epoch=steps_per_epoch, epochs=int(EPOCHS/2),\n",
    "          validation_data=validation_generator, validation_steps=validation_steps,\n",
    "          shuffle=True)"
   ]
  },
  {
   "cell_type": "markdown",
   "metadata": {},
   "source": [
    "# 6.1. Desempenho"
   ]
  },
  {
   "cell_type": "code",
   "execution_count": 56,
   "metadata": {},
   "outputs": [
    {
     "data": {
      "text/plain": [
       "<matplotlib.legend.Legend at 0x282442f2820>"
      ]
     },
     "execution_count": 56,
     "metadata": {},
     "output_type": "execute_result"
    },
    {
     "data": {
      "image/png": "[encoded data removed]",
      "text/plain": [
       "<Figure size 432x288 with 1 Axes>"
      ]
     },
     "metadata": {},
     "output_type": "display_data"
    }
   ],
   "source": [
    "import matplotlib.pyplot as plt\n",
    "\n",
    "plt.style.use(\"ggplot\")\n",
    "plt.figure()\n",
    "N = int(EPOCHS/2)\n",
    "plt.plot(np.arange(0, N), history.history[\"loss\"], label=\"train_loss\")\n",
    "plt.plot(np.arange(0, N), history.history[\"val_loss\"], label=\"val_loss\")\n",
    "\n",
    "plt.title(\"After Tuning\")\n",
    "plt.xlabel(\"Epoch #\")\n",
    "plt.ylabel(\"Loss\")\n",
    "plt.legend(loc=\"upper left\")"
   ]
  },
  {
   "cell_type": "code",
   "execution_count": 57,
   "metadata": {},
   "outputs": [
    {
     "data": {
      "text/plain": [
       "<matplotlib.legend.Legend at 0x28240e0ba30>"
      ]
     },
     "execution_count": 57,
     "metadata": {},
     "output_type": "execute_result"
    },
    {
     "data": {
      "image/png": "[encoded data removed]",
      "text/plain": [
       "<Figure size 432x288 with 1 Axes>"
      ]
     },
     "metadata": {},
     "output_type": "display_data"
    }
   ],
   "source": [
    "import matplotlib.pyplot as plt\n",
    "\n",
    "plt.style.use(\"ggplot\")\n",
    "plt.figure()\n",
    "N = int(EPOCHS/2)\n",
    "plt.plot(np.arange(0, N), history.history[\"accuracy\"], label=\"accuracy\")\n",
    "plt.plot(np.arange(0, N), history.history[\"val_accuracy\"], label=\"val_accuracy\")\n",
    "\n",
    "plt.title(\"After Tuning\")\n",
    "plt.xlabel(\"Epoch #\")\n",
    "plt.ylabel(\"Accuracy\")\n",
    "plt.legend(loc=\"upper left\")"
   ]
  },
  {
   "cell_type": "markdown",
   "metadata": {},
   "source": [
    "# 6.2. Nota Final"
   ]
  },
  {
   "cell_type": "code",
   "execution_count": 58,
   "metadata": {},
   "outputs": [
    {
     "name": "stdout",
     "output_type": "stream",
     "text": [
      "Evaluate on test data\n",
      "21/21 [==============================] - 1s 58ms/step - loss: 0.0096 - accuracy: 0.9976\n"
     ]
    }
   ],
   "source": [
    "print(\"Evaluate on test data\")\n",
    "_, model_accuracy = model.evaluate(X_validation, y_validation, batch_size=BATCH_SIZE)"
   ]
  },
  {
   "cell_type": "markdown",
   "metadata": {},
   "source": [
    "# 7. Conversão"
   ]
  },
  {
   "cell_type": "markdown",
   "metadata": {},
   "source": [
    "# 7.1. Modelo Final Sem Conversão\n",
    "\n",
    "Para uso em testes posteriores."
   ]
  },
  {
   "cell_type": "code",
   "execution_count": 59,
   "metadata": {},
   "outputs": [
    {
     "name": "stderr",
     "output_type": "stream",
     "text": [
      "WARNING:absl:Found untraced functions such as _jit_compiled_convolution_op, _jit_compiled_convolution_op, _jit_compiled_convolution_op, _jit_compiled_convolution_op, _jit_compiled_convolution_op while saving (showing 5 of 21). These functions will not be directly callable after loading.\n"
     ]
    },
    {
     "name": "stdout",
     "output_type": "stream",
     "text": [
      "INFO:tensorflow:Assets written to: D:\\source\\\\junior\\\\junior-homecat-training\\\\results/home-cat-model-2\\assets\n"
     ]
    },
    {
     "name": "stderr",
     "output_type": "stream",
     "text": [
      "INFO:tensorflow:Assets written to: D:\\source\\\\junior\\\\junior-homecat-training\\\\results/home-cat-model-2\\assets\n"
     ]
    }
   ],
   "source": [
    "tf.keras.models.save_model(\n",
    "    model, base_path+\"/home-cat-model-2\", overwrite=True, include_optimizer=True, save_format=None,\n",
    "    signatures=None, options=None\n",
    ")\n"
   ]
  },
  {
   "cell_type": "markdown",
   "metadata": {},
   "source": [
    "# 7.2. Método Auxiliar"
   ]
  },
  {
   "cell_type": "code",
   "execution_count": 60,
   "metadata": {},
   "outputs": [],
   "source": [
    "def representative_dataset_gen():\n",
    "  for input_value in tf.data.Dataset.from_tensor_slices(data).batch(1).take(BATCH_SIZE):\n",
    "    \n",
    "    yield [input_value]"
   ]
  },
  {
   "cell_type": "markdown",
   "metadata": {},
   "source": [
    "# 7.3. Quantização e Persistência"
   ]
  },
  {
   "cell_type": "code",
   "execution_count": 62,
   "metadata": {},
   "outputs": [
    {
     "name": "stderr",
     "output_type": "stream",
     "text": [
      "WARNING:absl:Found untraced functions such as _jit_compiled_convolution_op, _jit_compiled_convolution_op, _jit_compiled_convolution_op, _jit_compiled_convolution_op, _jit_compiled_convolution_op while saving (showing 5 of 21). These functions will not be directly callable after loading.\n"
     ]
    },
    {
     "name": "stdout",
     "output_type": "stream",
     "text": [
      "INFO:tensorflow:Assets written to: C:\\Users\\gleis\\AppData\\Local\\Temp\\tmpuqn5q4ws\\assets\n"
     ]
    },
    {
     "name": "stderr",
     "output_type": "stream",
     "text": [
      "INFO:tensorflow:Assets written to: C:\\Users\\gleis\\AppData\\Local\\Temp\\tmpuqn5q4ws\\assets\n",
      "c:\\Users\\gleis\\.conda\\envs\\ct213\\lib\\site-packages\\tensorflow\\lite\\python\\convert.py:766: UserWarning: Statistics for quantized inputs were expected, but not specified; continuing anyway.\n",
      "  warnings.warn(\"Statistics for quantized inputs were expected, but not \"\n"
     ]
    },
    {
     "data": {
      "text/plain": [
       "166280"
      ]
     },
     "execution_count": 62,
     "metadata": {},
     "output_type": "execute_result"
    }
   ],
   "source": [
    "import tensorflow as tf\n",
    "\n",
    "converter = tf.lite.TFLiteConverter.from_keras_model(model)\n",
    "converter.optimizations = [tf.lite.Optimize.DEFAULT]\n",
    "\n",
    "converter.representative_dataset = representative_dataset_gen\n",
    "converter.target_spec.supported_ops = [tf.lite.OpsSet.TFLITE_BUILTINS_INT8]\n",
    "converter.target_spec.supported_types = [tf.int8]\n",
    "\n",
    "converter.inference_input_type = tf.int8 \n",
    "converter.inference_output_type = tf.int8\n",
    "\n",
    "tflite_quant_model = converter.convert()\n",
    "\n",
    "open(base_path+'/home-cat-model-2.tflite', \"wb\").write(tflite_quant_model)"
   ]
  },
  {
   "cell_type": "markdown",
   "metadata": {},
   "source": [
    "# 7.4. Avaliação do Modelo Convertido"
   ]
  },
  {
   "cell_type": "code",
   "execution_count": 63,
   "metadata": {},
   "outputs": [],
   "source": [
    "import numpy as np\n",
    "\n",
    "def evaluate_model(interpreter):\n",
    "  input_index = interpreter.get_input_details()[0][\"index\"]\n",
    "  output_index = interpreter.get_output_details()[0][\"index\"]\n",
    "\n",
    "  # Run predictions on every image in the \"test\" dataset.\n",
    "  prediction_digits = []\n",
    "  for i, test_image in enumerate(data):\n",
    "    if i % 1000 == 0:\n",
    "      print('Evaluated on {n} results so far.'.format(n=i))\n",
    "\n",
    "    test_image = np.array(test_image*255-128, dtype=\"int8\")\n",
    "    test_image = test_image.reshape(1,DIM,DIM,3)\n",
    "    interpreter.set_tensor(input_index, test_image)\n",
    "\n",
    "    # Run inference.\n",
    "    interpreter.invoke()\n",
    "\n",
    "    output = interpreter.tensor(output_index)\n",
    "    digit = np.argmax(output()[0])\n",
    "    prediction_digits.append(digit)\n",
    "\n",
    "  print('\\n')\n",
    "  # Compare prediction results with ground truth labels to calculate accuracy.\n",
    "  prediction_digits = np.array(prediction_digits)\n",
    "  accuracy = (prediction_digits == labels).mean()\n",
    "  return accuracy"
   ]
  },
  {
   "cell_type": "code",
   "execution_count": 64,
   "metadata": {},
   "outputs": [
    {
     "name": "stdout",
     "output_type": "stream",
     "text": [
      "Evaluated on 0 results so far.\n",
      "Evaluated on 1000 results so far.\n",
      "Evaluated on 2000 results so far.\n",
      "Evaluated on 3000 results so far.\n",
      "Evaluated on 4000 results so far.\n",
      "Evaluated on 5000 results so far.\n",
      "Evaluated on 6000 results so far.\n",
      "Evaluated on 7000 results so far.\n",
      "Evaluated on 8000 results so far.\n",
      "Evaluated on 9000 results so far.\n",
      "Evaluated on 10000 results so far.\n",
      "\n",
      "\n",
      "Quant TFLite test_accuracy: 0.998947670525208\n"
     ]
    }
   ],
   "source": [
    "interpreter = tf.lite.Interpreter(model_content=tflite_quant_model)\n",
    "interpreter.allocate_tensors()\n",
    "\n",
    "test_accuracy = evaluate_model(interpreter)\n",
    "\n",
    "print('Quant TFLite test_accuracy:', test_accuracy)"
   ]
  }
 ],
 "metadata": {
  "kernelspec": {
   "display_name": "Python 3.9.7 ('ct213')",
   "language": "python",
   "name": "python3"
  },
  "language_info": {
   "codemirror_mode": {
    "name": "ipython",
    "version": 3
   },
   "file_extension": ".py",
   "mimetype": "text/x-python",
   "name": "python",
   "nbconvert_exporter": "python",
   "pygments_lexer": "ipython3",
   "version": "3.9.7"
  },
  "orig_nbformat": 4,
  "vscode": {
   "interpreter": {
    "hash": "5b32d0e22e98d986a573f41481b1855626850aa70c66dd3eb8ace3402f51f5d2"
   }
  }
 },
 "nbformat": 4,
 "nbformat_minor": 2
}
